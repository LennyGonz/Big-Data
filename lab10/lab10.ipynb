{
 "cells": [
  {
   "cell_type": "code",
   "execution_count": 1,
   "metadata": {},
   "outputs": [
    {
     "data": {
      "text/plain": [
       "<pyspark.context.SparkContext at 0x7f025f0b7c50>"
      ]
     },
     "execution_count": 1,
     "metadata": {},
     "output_type": "execute_result"
    }
   ],
   "source": [
    "sc"
   ]
  },
  {
   "cell_type": "code",
   "execution_count": 2,
   "metadata": {},
   "outputs": [],
   "source": [
    "taxi = sc.textFile('yellow.csv.gz')\n",
    "bike = sc.textFile('citibike.csv')"
   ]
  },
  {
   "cell_type": "code",
   "execution_count": 3,
   "metadata": {},
   "outputs": [
    {
     "data": {
      "text/plain": [
       "[(0, u'cartodb_id'),\n",
       " (1, u'the_geom'),\n",
       " (2, u'tripduration'),\n",
       " (3, u'starttime'),\n",
       " (4, u'stoptime'),\n",
       " (5, u'start_station_id'),\n",
       " (6, u'start_station_name'),\n",
       " (7, u'start_station_latitude'),\n",
       " (8, u'start_station_longitude'),\n",
       " (9, u'end_station_id'),\n",
       " (10, u'end_station_name'),\n",
       " (11, u'end_station_latitude'),\n",
       " (12, u'end_station_longitude'),\n",
       " (13, u'bikeid'),\n",
       " (14, u'usertype'),\n",
       " (15, u'birth_year'),\n",
       " (16, u'gender')]"
      ]
     },
     "execution_count": 3,
     "metadata": {},
     "output_type": "execute_result"
    }
   ],
   "source": [
    "list(enumerate(bike.take(1)[0].split(',')))"
   ]
  },
  {
   "cell_type": "code",
   "execution_count": 4,
   "metadata": {},
   "outputs": [
    {
     "data": {
      "text/plain": [
       "[u'cartodb_id,the_geom,tripduration,starttime,stoptime,start_station_id,start_station_name,start_station_latitude,start_station_longitude,end_station_id,end_station_name,end_station_latitude,end_station_longitude,bikeid,usertype,birth_year,gender',\n",
       " u'1,,801,2015-02-01 00:00:00+00,2015-02-01 00:14:00+00,521,8 Ave & W 31 St,40.75044999,-73.99481051,423,W 54 St & 9 Ave,40.76584941,-73.98690506,17131,Subscriber,1978,2']"
      ]
     },
     "execution_count": 4,
     "metadata": {},
     "output_type": "execute_result"
    }
   ],
   "source": [
    "bike.take(2)"
   ]
  },
  {
   "cell_type": "code",
   "execution_count": 5,
   "metadata": {},
   "outputs": [
    {
     "data": {
      "text/plain": [
       "['2015-02-01 00:05:00',\n",
       " '2015-02-01 00:05:00',\n",
       " '2015-02-01 00:50:00',\n",
       " '2015-02-01 01:30:00',\n",
       " '2015-02-01 03:28:00']"
      ]
     },
     "execution_count": 5,
     "metadata": {},
     "output_type": "execute_result"
    }
   ],
   "source": [
    "def filterBike(pId, lines):\n",
    "    import csv\n",
    "    for row in csv.reader(lines):\n",
    "        if (row[6] == 'Greenwich Ave & 8 Ave' and row[3].startswith('2015-02-01')):\n",
    "            yield (row[3][:19])\n",
    "    \n",
    "gbike = bike.mapPartitionsWithIndex(filterBike).cache()\n",
    "gbike.take(5)"
   ]
  },
  {
   "cell_type": "code",
   "execution_count": 6,
   "metadata": {},
   "outputs": [
    {
     "data": {
      "text/plain": [
       "u'10,,585,2015-02-01 00:05:00+00,2015-02-01 00:15:00+00,284,Greenwich Ave & 8 Ave,40.73901691,-74.00263761,444,Broadway & W 24 St,40.7423543,-73.98915076,14843,Subscriber,1982,1'"
      ]
     },
     "execution_count": 6,
     "metadata": {},
     "output_type": "execute_result"
    }
   ],
   "source": [
    "bike.filter(lambda x: 'Greenwich Ave & 8 Ave' in x).first()"
   ]
  },
  {
   "cell_type": "code",
   "execution_count": 7,
   "metadata": {},
   "outputs": [],
   "source": [
    "gLoc = (40.73901691,-74.00263761)"
   ]
  },
  {
   "cell_type": "code",
   "execution_count": 8,
   "metadata": {},
   "outputs": [
    {
     "data": {
      "text/plain": [
       "['2015-02-01 00:11:03',\n",
       " '2015-02-01 00:10:23',\n",
       " '2015-02-01 00:16:36',\n",
       " '2015-02-01 00:10:14',\n",
       " '2015-02-01 00:10:12']"
      ]
     },
     "execution_count": 8,
     "metadata": {},
     "output_type": "execute_result"
    }
   ],
   "source": [
    "def filterTaxi(pId, lines):\n",
    "    if pId == 0:\n",
    "        next(lines)\n",
    "    \n",
    "    import csv\n",
    "    import pyproj\n",
    "    proj = pyproj.Proj(init=\"epsg:2263\", preserve_units=True)  \n",
    "    gLoc = proj(-74.00263761, 40.73901691)\n",
    "    sqm = 1320 ** 2 \n",
    "    for row in csv.reader(lines):\n",
    "        try:\n",
    "            dropoff = proj(float(row[5]), float(row[4]))\n",
    "        except:\n",
    "            continue\n",
    "        distance = (dropoff[0]-gLoc[0]) ** 2 + (dropoff[1]-gLoc[1]) ** 2\n",
    "        if distance < sqm:\n",
    "            yield row[1][:19]\n",
    "    \n",
    "gTaxi = taxi.mapPartitionsWithIndex(filterTaxi).cache()\n",
    "gTaxi.take(5)"
   ]
  },
  {
   "cell_type": "code",
   "execution_count": 9,
   "metadata": {},
   "outputs": [
    {
     "name": "stdout",
     "output_type": "stream",
     "text": [
      "2015-02-01 00:05:00\n",
      "2015-02-01 00:11:03\n"
     ]
    }
   ],
   "source": [
    "lBikes = gbike.collect()\n",
    "lTaxis = gTaxi.collect()\n",
    "print(lBikes[0])\n",
    "print(lTaxis[0])"
   ]
  },
  {
   "cell_type": "code",
   "execution_count": 10,
   "metadata": {},
   "outputs": [
    {
     "name": "stdout",
     "output_type": "stream",
     "text": [
      "65\n"
     ]
    }
   ],
   "source": [
    "import datetime\n",
    "count = 0\n",
    "for b in lBikes:\n",
    "    # Convert the datetime string to a datetime object\n",
    "    bt = datetime.datetime.strptime(b, '%Y-%m-%d %H:%M:%S')\n",
    "    for t in lTaxis:\n",
    "        # Convert the datetime string to a datetime object\n",
    "        tt = datetime.datetime.strptime(t, '%Y-%m-%d %H:%M:%S')\n",
    "        \n",
    "        diff = (bt-tt).total_seconds()\n",
    "        \n",
    "        if diff > 0 and diff < 600:\n",
    "            count += 1\n",
    "            break\n",
    "\n",
    "print(count)"
   ]
  },
  {
   "cell_type": "code",
   "execution_count": 11,
   "metadata": {},
   "outputs": [
    {
     "data": {
      "text/plain": [
       "[('2015-02-01 00:03:12', 0),\n",
       " ('2015-02-01 00:04:39', 0),\n",
       " ('2015-02-01 00:05:00', 1),\n",
       " ('2015-02-01 00:05:00', 1),\n",
       " ('2015-02-01 00:05:38', 0)]"
      ]
     },
     "execution_count": 11,
     "metadata": {},
     "output_type": "execute_result"
    }
   ],
   "source": [
    "# Using RDD\n",
    "\n",
    "gAll = (gTaxi.map(lambda x: (x, 0)) + gbike.map(lambda x: (x, 1)))\n",
    "gAll.sortByKey().take(5)"
   ]
  },
  {
   "cell_type": "code",
   "execution_count": 17,
   "metadata": {},
   "outputs": [
    {
     "data": {
      "text/plain": [
       "65"
      ]
     },
     "execution_count": 17,
     "metadata": {},
     "output_type": "execute_result"
    }
   ],
   "source": [
    "def findTrips(_, records):\n",
    "    import datetime\n",
    "    lastTaxiTime = None\n",
    "    for dt, event in records:\n",
    "        t = datetime.datetime.strptime(dt, '%Y-%m-%d %H:%M:%S')\n",
    "        if event == 1:\n",
    "            if lastTaxiTime != None:\n",
    "                if (t - lastTaxiTime).total_seconds() < 600:\n",
    "                    yield(dt,event)\n",
    "        else:\n",
    "            lastTaxiTime = t\n",
    "        \n",
    "gAll.sortByKey().mapPartitionsWithIndex(findTrips).count()"
   ]
  },
  {
   "cell_type": "markdown",
   "metadata": {},
   "source": [
    "# Using SQL"
   ]
  },
  {
   "cell_type": "code",
   "execution_count": 13,
   "metadata": {},
   "outputs": [],
   "source": [
    "df = sqlContext.createDataFrame(gAll,('time','event'))"
   ]
  },
  {
   "cell_type": "code",
   "execution_count": 15,
   "metadata": {},
   "outputs": [],
   "source": [
    "df1 = df.select(df['time'].cast('timestamp').cast('long').alias('epoch'),'event')"
   ]
  },
  {
   "cell_type": "code",
   "execution_count": 16,
   "metadata": {},
   "outputs": [],
   "source": [
    "df1.registerTempTable('gAll')"
   ]
  },
  {
   "cell_type": "code",
   "execution_count": 23,
   "metadata": {},
   "outputs": [
    {
     "name": "stdout",
     "output_type": "stream",
     "text": [
      "+-------------+\n",
      "|sum(has_taxi)|\n",
      "+-------------+\n",
      "|           65|\n",
      "+-------------+\n",
      "\n"
     ]
    }
   ],
   "source": [
    "query = '''\n",
    "SELECT sum(has_taxi)\n",
    "FROM(\n",
    "    SELECT event, 1-min(event) over (ORDER BY epoch\n",
    "                   RANGE BETWEEN 600 PRECEDING\n",
    "                   AND CURRENT ROW)\n",
    "        As has_taxi\n",
    "FROM gALL\n",
    ") newGAll\n",
    "WHERE event = 1\n",
    "'''\n",
    "sqlContext.sql(query).show()"
   ]
  },
  {
   "cell_type": "markdown",
   "metadata": {},
   "source": [
    "# Using DataFrame"
   ]
  },
  {
   "cell_type": "code",
   "execution_count": 24,
   "metadata": {},
   "outputs": [],
   "source": [
    "import pyspark.sql.functions as sf\n",
    "import pyspark.sql.window as sw"
   ]
  },
  {
   "cell_type": "code",
   "execution_count": 32,
   "metadata": {},
   "outputs": [
    {
     "name": "stdout",
     "output_type": "stream",
     "text": [
      "+-------------+\n",
      "|sum(has_taxi)|\n",
      "+-------------+\n",
      "|           42|\n",
      "+-------------+\n",
      "\n"
     ]
    }
   ],
   "source": [
    "window = sw.Window.orderBy('epoch').rangeBetween(-10,-1)\n",
    "df2 = df1.select('event', (1-sf.min(df1['event']).over(window))\\\n",
    "                           .alias('has_taxi')) \\\n",
    "                           .filter(df1['event']==1) \\\n",
    "                           .select(sf.sum(sf.col('has_taxi')))\n",
    "df2.show()"
   ]
  },
  {
   "cell_type": "code",
   "execution_count": null,
   "metadata": {},
   "outputs": [],
   "source": []
  },
  {
   "cell_type": "code",
   "execution_count": null,
   "metadata": {},
   "outputs": [],
   "source": []
  },
  {
   "cell_type": "code",
   "execution_count": null,
   "metadata": {},
   "outputs": [],
   "source": []
  }
 ],
 "metadata": {
  "kernelspec": {
   "display_name": "Python 2",
   "language": "python",
   "name": "python2"
  },
  "language_info": {
   "codemirror_mode": {
    "name": "ipython",
    "version": 2
   },
   "file_extension": ".py",
   "mimetype": "text/x-python",
   "name": "python",
   "nbconvert_exporter": "python",
   "pygments_lexer": "ipython2",
   "version": "2.7.14"
  }
 },
 "nbformat": 4,
 "nbformat_minor": 2
}
